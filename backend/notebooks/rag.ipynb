{
 "cells": [
  {
   "cell_type": "code",
   "execution_count": 10,
   "metadata": {},
   "outputs": [],
   "source": [
    "from langchain_community.vectorstores import FAISS\n",
    "from langchain_ollama import OllamaEmbeddings\n",
    "from langchain_ollama import ChatOllama"
   ]
  },
  {
   "cell_type": "code",
   "execution_count": 11,
   "metadata": {},
   "outputs": [],
   "source": [
    "embeddings = OllamaEmbeddings(model=\"mxbai-embed-large\")"
   ]
  },
  {
   "cell_type": "code",
   "execution_count": 38,
   "metadata": {},
   "outputs": [],
   "source": [
    "vector_store = FAISS.load_local(\n",
    "    \"faiss_index\", embeddings, allow_dangerous_deserialization=True\n",
    ")\n",
    "\n",
    "retriever = vector_store.as_retriever(search_type=\"mmr\", search_kwargs={\"k\": 2})"
   ]
  },
  {
   "cell_type": "code",
   "execution_count": 13,
   "metadata": {},
   "outputs": [],
   "source": [
    "docs = retriever.invoke(\"Stealing from the bank is a crime\")"
   ]
  },
  {
   "cell_type": "code",
   "execution_count": 14,
   "metadata": {},
   "outputs": [
    {
     "name": "stdout",
     "output_type": "stream",
     "text": [
      "page_content='They got some money out there\n",
      "\n",
      "They're giving it away\n",
      "\n",
      "I'm gonna do what I want\n",
      "\n",
      "Do what I want' metadata={'source': '../../docs/bonemachine/goinoutwest.txt'}\n"
     ]
    }
   ],
   "source": [
    "print(docs[1])"
   ]
  },
  {
   "cell_type": "code",
   "execution_count": 15,
   "metadata": {},
   "outputs": [],
   "source": [
    "llm = ChatOllama(model=\"llama3.2\")"
   ]
  },
  {
   "cell_type": "code",
   "execution_count": 16,
   "metadata": {},
   "outputs": [
    {
     "data": {
      "text/plain": [
       "AIMessage(content='I\\'m an artificial intelligence model known as Llama. Llama stands for \"Large Language Model Meta AI.\"', additional_kwargs={}, response_metadata={'model': 'llama3.2', 'created_at': '2025-02-09T16:45:29.642301Z', 'done': True, 'done_reason': 'stop', 'total_duration': 17206177917, 'load_duration': 15666572209, 'prompt_eval_count': 29, 'prompt_eval_duration': 1155000000, 'eval_count': 23, 'eval_duration': 382000000, 'message': Message(role='assistant', content='', images=None, tool_calls=None)}, id='run-1cc2d4d5-3386-46f5-bcd4-c5fcc0ec9c1f-0', usage_metadata={'input_tokens': 29, 'output_tokens': 23, 'total_tokens': 52})"
      ]
     },
     "execution_count": 16,
     "metadata": {},
     "output_type": "execute_result"
    }
   ],
   "source": [
    "llm.invoke(input='Who are you?')"
   ]
  },
  {
   "cell_type": "code",
   "execution_count": 41,
   "metadata": {},
   "outputs": [
    {
     "name": "stdout",
     "output_type": "stream",
     "text": [
      "[Document(id='18a6215e-9df3-4255-85a2-8437fdbe0196', metadata={'source': '../../docs/bonemachine/murderintheredbarn.txt'}, page_content='The sky turned black and bruised\\n\\nAnd we had months of heavy rains'), Document(id='74e8297f-4964-4cbe-be99-bafeeef21cfd', metadata={'source': '../../docs/bonemachine/allstrippeddown.txt'}, page_content='When all the creatures of the world\\n\\nAre gonna line up at the gate\\n\\nAnd you better be on time')]\n",
      "\"Months of heavy rains\"... perhaps we should focus on developing resilient infrastructure, like waterproof roofs and flood-resistant buildings. [docX]\n"
     ]
    }
   ],
   "source": [
    "from langchain.chains import create_retrieval_chain\n",
    "from langchain.chains.combine_documents import create_stuff_documents_chain\n",
    "from langchain_core.prompts import ChatPromptTemplate\n",
    "\n",
    "system_prompt = (\n",
    "    \"You are a sage wise and person.\"\n",
    "    \"Use the following chunks of song lyrics to write your answer\"\n",
    "    \"to any questions. Stick to the lyrics provided to you and stay STRONGLY ROOTED in them. \"\n",
    "    \"Your answers can be a little odd, and not directly answering the question in order to stay faithful to the lyrics.\"\n",
    "    \"Keep your answers short.\"\n",
    "    \"\\n\\n\"\n",
    "    \"Song Lyrics:\"\n",
    "    \"\\n\\n\"\n",
    "    \"{context}\"\n",
    ")\n",
    "\n",
    "prompt = ChatPromptTemplate.from_messages(\n",
    "    [\n",
    "        (\"system\", system_prompt),\n",
    "        (\"human\", \"{input}\"),\n",
    "    ]\n",
    ")\n",
    "\n",
    "\n",
    "question_answer_chain = create_stuff_documents_chain(llm, prompt)\n",
    "rag_chain = create_retrieval_chain(retriever, question_answer_chain)\n",
    "\n",
    "response = rag_chain.invoke({\"input\": \"How can we better prepare for climate emergency?\"})\n",
    "print(response['context'])\n",
    "print(response['answer'])"
   ]
  },
  {
   "cell_type": "code",
   "execution_count": null,
   "metadata": {},
   "outputs": [],
   "source": [
    "def chat_call(question):\n",
    "    return rag_chain.invoke({\"input\": question})"
   ]
  },
  {
   "cell_type": "code",
   "execution_count": null,
   "metadata": {},
   "outputs": [],
   "source": []
  }
 ],
 "metadata": {
  "kernelspec": {
   "display_name": ".venv",
   "language": "python",
   "name": "python3"
  },
  "language_info": {
   "codemirror_mode": {
    "name": "ipython",
    "version": 3
   },
   "file_extension": ".py",
   "mimetype": "text/x-python",
   "name": "python",
   "nbconvert_exporter": "python",
   "pygments_lexer": "ipython3",
   "version": "3.13.1"
  }
 },
 "nbformat": 4,
 "nbformat_minor": 2
}
