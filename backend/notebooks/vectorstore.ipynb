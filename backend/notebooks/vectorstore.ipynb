{
 "cells": [
  {
   "cell_type": "code",
   "execution_count": 13,
   "metadata": {},
   "outputs": [],
   "source": [
    "from langchain_ollama import OllamaEmbeddings\n",
    "from langchain_community.document_loaders import DirectoryLoader"
   ]
  },
  {
   "cell_type": "code",
   "execution_count": 14,
   "metadata": {},
   "outputs": [],
   "source": [
    "embeddings = OllamaEmbeddings(model=\"mxbai-embed-large\")"
   ]
  },
  {
   "cell_type": "code",
   "execution_count": 24,
   "metadata": {},
   "outputs": [],
   "source": [
    "from langchain_community.document_loaders import TextLoader"
   ]
  },
  {
   "cell_type": "code",
   "execution_count": 26,
   "metadata": {},
   "outputs": [],
   "source": [
    "from langchain_experimental.text_splitter import SemanticChunker"
   ]
  },
  {
   "cell_type": "code",
   "execution_count": 30,
   "metadata": {},
   "outputs": [],
   "source": [
    "text_splitter = SemanticChunker(embeddings)"
   ]
  },
  {
   "cell_type": "code",
   "execution_count": 15,
   "metadata": {},
   "outputs": [
    {
     "name": "stderr",
     "output_type": "stream",
     "text": [
      "libmagic is unavailable but assists in filetype detection. Please consider installing libmagic for better results.\n",
      "libmagic is unavailable but assists in filetype detection. Please consider installing libmagic for better results.\n",
      "libmagic is unavailable but assists in filetype detection. Please consider installing libmagic for better results.\n",
      "libmagic is unavailable but assists in filetype detection. Please consider installing libmagic for better results.\n",
      "libmagic is unavailable but assists in filetype detection. Please consider installing libmagic for better results.\n",
      "libmagic is unavailable but assists in filetype detection. Please consider installing libmagic for better results.\n",
      "libmagic is unavailable but assists in filetype detection. Please consider installing libmagic for better results.\n",
      "libmagic is unavailable but assists in filetype detection. Please consider installing libmagic for better results.\n",
      "libmagic is unavailable but assists in filetype detection. Please consider installing libmagic for better results.\n",
      "libmagic is unavailable but assists in filetype detection. Please consider installing libmagic for better results.\n",
      "libmagic is unavailable but assists in filetype detection. Please consider installing libmagic for better results.\n",
      "libmagic is unavailable but assists in filetype detection. Please consider installing libmagic for better results.\n",
      "libmagic is unavailable but assists in filetype detection. Please consider installing libmagic for better results.\n",
      "libmagic is unavailable but assists in filetype detection. Please consider installing libmagic for better results.\n",
      "libmagic is unavailable but assists in filetype detection. Please consider installing libmagic for better results.\n"
     ]
    },
    {
     "data": {
      "text/plain": [
       "15"
      ]
     },
     "execution_count": 15,
     "metadata": {},
     "output_type": "execute_result"
    }
   ],
   "source": [
    "loader = DirectoryLoader(\"../../docs\", glob=\"**/*.txt\", loader_cls=TextLoader)\n",
    "docs = loader.load()\n",
    "len(docs)"
   ]
  },
  {
   "cell_type": "code",
   "execution_count": 31,
   "metadata": {},
   "outputs": [],
   "source": [
    "from langchain_text_splitters import RecursiveCharacterTextSplitter\n",
    "text_splitter = RecursiveCharacterTextSplitter(chunk_size=100, chunk_overlap=0)"
   ]
  },
  {
   "cell_type": "code",
   "execution_count": 39,
   "metadata": {},
   "outputs": [
    {
     "name": "stdout",
     "output_type": "stream",
     "text": [
      "page_content='And I swear on my glass eye\n",
      "\n",
      "It will never leave you high and dry\n",
      "\n",
      "Never leave you loose' metadata={'source': '../../docs/bonemachine/thatfeel.txt'}\n"
     ]
    }
   ],
   "source": [
    "split_docs = text_splitter.split_documents(docs)\n",
    "print(split_docs[6])"
   ]
  },
  {
   "cell_type": "code",
   "execution_count": 37,
   "metadata": {},
   "outputs": [
    {
     "data": {
      "text/plain": [
       "185"
      ]
     },
     "execution_count": 37,
     "metadata": {},
     "output_type": "execute_result"
    }
   ],
   "source": [
    "len(split_docs)"
   ]
  },
  {
   "cell_type": "code",
   "execution_count": 42,
   "metadata": {},
   "outputs": [],
   "source": [
    "import faiss\n",
    "from langchain_community.docstore.in_memory import InMemoryDocstore\n",
    "from langchain_community.vectorstores import FAISS\n",
    "\n",
    "index = faiss.IndexFlatL2(len(embeddings.embed_query(\"hello world\")))\n",
    "\n",
    "vector_store = FAISS(\n",
    "    embedding_function=embeddings,\n",
    "    index=index,\n",
    "    docstore=InMemoryDocstore(),\n",
    "    index_to_docstore_id={},\n",
    ")"
   ]
  },
  {
   "cell_type": "code",
   "execution_count": 43,
   "metadata": {},
   "outputs": [
    {
     "data": {
      "text/plain": [
       "['4615e154-7301-4ad8-abb7-a57fae5886e1',\n",
       " 'cf173350-3e4a-41d3-b14b-5aded61b5b54',\n",
       " '9c0dcf8c-2a18-477b-9689-f877341c5945',\n",
       " '0ca8419f-6c05-458d-b192-81756e7f6758',\n",
       " '5fc7e26d-b8f7-480c-9592-e3dcedda78a0',\n",
       " '46f7d94a-0b1e-4d34-9047-fa19359fdc8f',\n",
       " '6d39db68-fb32-48d6-b13b-c656583ce904',\n",
       " '49cb6e98-f2e4-4b57-bc4f-5bd9ba6218b3',\n",
       " 'a7d83500-e08b-451e-998b-6d9d55ddd26f',\n",
       " '732cee60-9b3e-4101-abd3-c349b78b0010',\n",
       " 'd10650c8-e793-4a04-9eda-32413b8e454b',\n",
       " '8087563e-3814-4223-a92b-e1e17c03c53c',\n",
       " '25d6b225-0b05-49ff-9ad9-9f8b6fcdc470',\n",
       " '224ce294-5b8c-4c33-9076-e3ee33511144',\n",
       " '3aa405ac-f9c0-46d7-aaf6-5b53abe1904d',\n",
       " '402e5fa2-4b9d-435c-aeff-765abd3c8661',\n",
       " '7c41a0e5-9c98-4dea-b830-14efcd8c2a32',\n",
       " 'c75bb118-69b8-40e4-8af0-559cdc4aa00e',\n",
       " 'cc9e5c26-1433-4472-92b6-dacf4891301a',\n",
       " '6dd4eaa7-487d-45c5-b283-21974f8e5182',\n",
       " '85251f33-5e7e-4cf2-a47a-168ea75a3d85',\n",
       " '2835e2c1-ca11-403c-a7fa-9555dcf21c98',\n",
       " '96ec23d3-8346-4ecc-82ad-fbfe5c967748',\n",
       " '0ff26298-bb6d-4579-be4b-759ab9ca85af',\n",
       " '2e52575b-acf5-4e5f-99d3-acbef489b457',\n",
       " '86e33440-dd2b-4c97-b8cd-5be035609350',\n",
       " '33457adc-8eee-4fcc-bb58-470f8cf758dd',\n",
       " '05abd604-e369-4eac-b25c-03fce8e439cc',\n",
       " '9c6ad10b-e9a2-47df-b85f-71aa42c21f24',\n",
       " 'a356414f-39a6-46d7-9270-a798d9682354',\n",
       " 'd7941abd-8982-476d-86a7-1ac56da2a19e',\n",
       " '9e503c74-431d-4230-b023-96077162ca44',\n",
       " 'b7a52b1e-61f8-403c-a490-076a842b46e7',\n",
       " '08c3de31-a34b-4647-9ffc-ec80df479ece',\n",
       " 'f89c93af-4633-4a27-a4c6-214de2145291',\n",
       " '68b139a6-99c0-4ec0-b279-705e39479c15',\n",
       " '941bdc58-fb69-48f9-bb29-325291d419f2',\n",
       " '96bc3469-7e90-45d4-b585-9da60ce2ebcd',\n",
       " '9b14b13a-e3a3-406e-b43b-f51c664481c8',\n",
       " '068fb2ac-94c8-43cd-acea-141ff4a31b38',\n",
       " '887abdee-a409-4122-8eae-dcb0dd52e715',\n",
       " '74794657-c165-4dc9-9f86-fe345554d83c',\n",
       " 'df6852ae-5ea6-4eb7-bb24-59da29cee756',\n",
       " '7ac35e96-70f8-4d3a-be39-606dd3acb870',\n",
       " '0d3816e8-7b52-4c47-95db-b3f8c369de5b',\n",
       " 'eccf32e0-d772-4594-9265-951ee08afd30',\n",
       " 'd911ff1d-f3a8-475d-9f2b-520cf1b02e3f',\n",
       " '1d97799b-2cca-425c-bffb-c970b520f6d9',\n",
       " '97b96ad7-e7e9-41f7-8eb1-4d5ae8435757',\n",
       " 'b7fc86f5-46ff-4af4-9ef7-064bab36342e',\n",
       " '396c17dd-d269-45e0-a03f-039e044a6abc',\n",
       " '42d83fc5-30b8-46b8-9be4-4dbb0879d8ee',\n",
       " '9dcb6702-0f7d-4aa4-83f9-9eb951c9a9d1',\n",
       " '4a9fdac5-7334-4ad1-bf83-881b7f40ea25',\n",
       " 'f27ce390-f380-4f45-9583-eb22581dabe7',\n",
       " 'e8373c4a-648d-4d85-821f-62357ea0526b',\n",
       " 'ba6934d9-3385-4228-a540-be3c41174467',\n",
       " 'de83d384-bb19-4e6a-93be-7f2d9d3f304d',\n",
       " '3db27cf5-2af5-412c-8189-96f54d1ab3e8',\n",
       " '8c3646fc-163d-4cdc-a9d9-97c8499726bd',\n",
       " 'a401331b-ccba-4a88-a2b9-02a83719b7fb',\n",
       " 'e96edc94-8cf8-4955-98df-d54f5da91428',\n",
       " '6e22c994-0904-4c2b-9735-46eb1b158887',\n",
       " '26354226-3a27-443c-bef8-a879324f96cb',\n",
       " 'd23e5438-a511-4984-b17d-de670c13a812',\n",
       " '2879e453-8918-4fb7-b8bf-fb0369e5d1af',\n",
       " '36e1cfc6-ed0d-48c8-926d-cef5eae203e4',\n",
       " '631f8c79-45de-4420-9cb0-1244a358adef',\n",
       " '2919c91e-312a-4473-80c9-a2afaeacc2b0',\n",
       " '3a89262b-21bb-4a8b-a9dd-12e5407d9a01',\n",
       " 'b1b0376b-13bd-454a-be4e-fda8e07e6248',\n",
       " '199bcb52-149a-4582-a409-34b225eb6972',\n",
       " 'bfa9cfe6-57b4-4fda-b1ce-eeea63cb8c0f',\n",
       " 'd66bc415-dccf-4dad-ad77-91643def3f50',\n",
       " '34a99f62-b181-4ea2-8abd-344b0f5d0b01',\n",
       " '877c0d65-1a21-4e70-a3fc-3b47266dd650',\n",
       " '1420ca28-ecdb-4962-8ea4-e9ce966a0d05',\n",
       " '28109e4a-7c21-4527-a10b-adb951154f96',\n",
       " '73f32908-edf4-42eb-ad85-a1817fb26ed2',\n",
       " '7ae27625-d025-4384-82b0-45fa3b8a32ca',\n",
       " '0cf67eab-cc4c-4c3c-a90f-93e2f2de0e0c',\n",
       " '1a459db8-12fc-4425-aba9-9831264bbe88',\n",
       " '74e8297f-4964-4cbe-be99-bafeeef21cfd',\n",
       " '4ba6e4b7-9e47-4396-8640-69d31aff42e0',\n",
       " '13d47b24-aacb-46de-ae84-0d432e9b1e16',\n",
       " 'faec5507-2324-477e-a25c-ede834447e4e',\n",
       " '274d8652-8721-4f66-a0ff-d30831405648',\n",
       " 'c5e4a589-06de-48ee-b245-32ce3f1ed12b',\n",
       " '441dc76f-b9ad-43c5-ae2a-ad78d38849ce',\n",
       " '1647858e-182a-451a-b689-791045ea9856',\n",
       " 'c648050c-2378-46aa-ba8c-67999953d8c8',\n",
       " 'bbe88dc1-89a0-42a2-8a59-1d96fd3d8704',\n",
       " '34e2e2e7-29b9-452a-a2c0-551af8592e7a',\n",
       " '55e1febf-8da4-467e-892d-8c976b74b739',\n",
       " '4ca4bd18-cded-4dcf-a70a-ad178c8d80e3',\n",
       " 'b055bd70-6291-4c88-aded-1c70ac0707f5',\n",
       " '7b8be1db-b3fa-44bc-a346-7c4552d6db0b',\n",
       " '42431b6b-e13b-41e1-94e3-8d9b68ff3c45',\n",
       " 'b0aa8e93-dde2-4389-9b0f-cd0cfeaf2970',\n",
       " '2cc6b559-afbd-4647-9f4a-46fff5f4d562',\n",
       " 'cd76684f-e535-4535-a14b-98be3fd58fe5',\n",
       " '212a6e38-069d-4ddb-846c-1d88c8dff3b0',\n",
       " '32ae643e-e270-4755-913c-eda795582841',\n",
       " 'f6e510ea-3e27-4e01-b2ec-b6c7f48c308d',\n",
       " '92d3d2e3-9532-4364-945a-c60d3d9d90b3',\n",
       " '28b19cb7-4464-41a0-bf9d-f8d872931986',\n",
       " '94899c40-03ce-452d-8d50-15d5dcace915',\n",
       " 'eef0ea2b-05e5-4bdb-8c26-6a281f3af5e3',\n",
       " 'a3c77f74-3bbb-47d4-b35c-948fe6198631',\n",
       " 'c224decd-a2a3-4d08-96a1-e150a6692b49',\n",
       " '7673a02d-3be1-41b4-8d03-997bbe13168e',\n",
       " '6d16fb93-77d2-4400-b87e-783b714d2e92',\n",
       " '8da4ae49-2aa8-4408-ba89-31d41855f79a',\n",
       " '256e84e6-fe69-421b-b5fe-032ccb1a8c8b',\n",
       " '11202b29-f94e-425d-acc9-0b647449f387',\n",
       " '77717034-db65-46ca-9af2-0f2db9978217',\n",
       " 'bfbedbe6-af26-49e4-ac1b-a87e317eb9b1',\n",
       " '2588afb5-d1db-4705-8b7b-dd7d479011a5',\n",
       " '3c7140cf-0499-487a-a655-4409f355e1c6',\n",
       " 'b486bb81-b9ff-4668-9c36-4c91f0714d72',\n",
       " '7166950b-a6eb-43de-b947-d4d1f0a7ad14',\n",
       " '72219cc2-df9d-4401-a943-b2d5ae8409bf',\n",
       " '2fe9cc1f-e41d-474b-be66-46330f8b4917',\n",
       " '05091ae3-9d94-410f-8326-5c0bec9532dd',\n",
       " '0382f4c5-ecb1-4295-9878-ae28204b05d1',\n",
       " 'c6a82179-8e42-4214-aa7e-1a827866fff9',\n",
       " '37aa0a79-6c9f-4955-894f-7d4791d54f37',\n",
       " '2a6bebb6-5d09-4b66-bc79-92ec6186a001',\n",
       " 'e474d346-b9db-4a93-9579-7f42ce9c3450',\n",
       " '1daebda9-1645-44e3-8d15-bf121e251785',\n",
       " 'a9954141-a5be-4f37-8c4b-4e8e0ed1c68b',\n",
       " '65e9c686-2e76-4b49-ad4f-4f1ec852cabe',\n",
       " '4f562f3d-7844-4af2-8952-79f081082dbf',\n",
       " '7578570b-2f45-4e7d-b040-51f3315e1a0a',\n",
       " 'a1676247-be8a-4a54-8e54-0e415738872c',\n",
       " 'fe290f04-a2a8-4953-ae9c-388ce6e9fe4c',\n",
       " '317753a6-21bc-4395-bb04-c82ddac179a0',\n",
       " '90732e61-ae7a-4263-a0fc-c9b2a49bd4af',\n",
       " '8cd1d731-9d17-4e7d-9895-ee78a9685ba0',\n",
       " '27924af0-4832-404e-8eb3-266f6d3f3f34',\n",
       " 'ceb4beb3-75d4-45ae-90d2-eeef99f4b163',\n",
       " '55759c6f-ac21-4960-8083-21ade22d853a',\n",
       " '81e64a91-8151-4325-a767-5daca48561e2',\n",
       " 'd063bb3e-aae8-423b-94fc-b159546269ab',\n",
       " 'b2ac614a-350d-4ee7-9661-6ae84e5f64ee',\n",
       " '6f4f2ea8-4613-41ee-907a-26002af85433',\n",
       " '366bac1a-784a-41fc-a276-6e168d6ea5ab',\n",
       " '44c0b9eb-1ff5-4040-95b3-0f84744bfa85',\n",
       " '40758530-84c8-4f49-9a1d-6e96d625bccb',\n",
       " 'b8673aeb-10f5-42a1-b730-31d04249490c',\n",
       " '95c83064-92ad-40f2-b0e3-ec2c54e75757',\n",
       " 'e8f0f256-0d27-482a-859d-d13d841bfeea',\n",
       " '7fab0328-31ee-4f14-b414-edc353f946ff',\n",
       " '80d59b9b-2b3b-4b87-a6bb-e4982b06454c',\n",
       " '9060d0fe-4bd1-4688-a974-677b04a41062',\n",
       " '1a1df7e0-81c7-412f-ab28-9f4f41288a89',\n",
       " '18a6215e-9df3-4255-85a2-8437fdbe0196',\n",
       " '03117a7a-1a50-4753-ba3b-ec8b7225b969',\n",
       " 'aff85e32-7e6a-41eb-bef7-513ea465d33c',\n",
       " 'c8a144f6-63c7-4dcb-bd32-eb04bf8d68cc',\n",
       " '2f2cb7b1-ade2-461f-8aed-49795fd22b59',\n",
       " 'b2fd78a2-878c-470f-a256-5a2813876caf',\n",
       " '733c372f-442e-4ae4-9d70-b01b13cd184b',\n",
       " '808cc094-0c27-4a52-9cc7-88cdb953deb0',\n",
       " '689e568d-1741-4576-af5d-a8fad9182945',\n",
       " '1f9acc71-cec2-4ce3-b1f8-5b940c7da035',\n",
       " '9a12c9b8-329a-40c2-bf62-76a7a4a11d5e',\n",
       " 'a9e88c89-b1f0-4e90-95a8-ae3e18c52a31',\n",
       " 'f595cba1-2fc1-4aa8-a936-651b00bbec07',\n",
       " '665cc4b9-90db-4346-a24a-1ac97ea6a199',\n",
       " 'c08a6984-ea72-441a-9565-92264b6d4796',\n",
       " 'ae80bc86-8505-4d05-b663-a5fbe43c8616',\n",
       " '9f8c7de9-ef69-4b14-b36e-ea9539d15f7d',\n",
       " '641e10e4-9567-42fa-a6b9-8a16e1c88ef1',\n",
       " '791c75e9-d809-457e-b095-93168920ff18',\n",
       " 'd6c5746b-3eab-42e4-ad7c-e6fbbd0e779b',\n",
       " 'd27f8aa0-bf30-475e-ba38-9620a4ff04b4',\n",
       " '37611c48-ba62-4e76-9aa1-858400242c97',\n",
       " '760b5b43-0653-4fe6-a054-e66a1206d65b',\n",
       " '7d317dc2-7347-4374-a9aa-b68a93dcd480',\n",
       " '7f8dddaa-1d13-4e71-8f96-4daa215b1764',\n",
       " '9dadc820-c99b-4e30-a894-aeaf354987f8',\n",
       " '5c4245b3-9b7e-447b-86ca-e3f825507e4b',\n",
       " 'c7af765f-3f30-4c26-9cc1-bef0b44e1ea3',\n",
       " 'e4c64244-d4f1-48a9-af6a-6eff0b7b0bbf']"
      ]
     },
     "execution_count": 43,
     "metadata": {},
     "output_type": "execute_result"
    }
   ],
   "source": [
    "vector_store.add_documents(documents=split_docs)"
   ]
  },
  {
   "cell_type": "code",
   "execution_count": 72,
   "metadata": {},
   "outputs": [],
   "source": [
    "results = vector_store.similarity_search(\n",
    "    \"I was really looking forward to the work I had later today\",\n",
    "    k=2,\n",
    ")"
   ]
  },
  {
   "cell_type": "code",
   "execution_count": 70,
   "metadata": {},
   "outputs": [
    {
     "name": "stdout",
     "output_type": "stream",
     "text": [
      "page_content='I got to keep my eyes open So I can see my Lord I'm gonna watch the horizon For a brand new Ford' metadata={'source': '../../docs/bonemachine/jesusgonnabehere.txt'}\n"
     ]
    }
   ],
   "source": [
    "print(results[0])"
   ]
  },
  {
   "cell_type": "code",
   "execution_count": 73,
   "metadata": {},
   "outputs": [],
   "source": [
    "vector_store.save_local(\"faiss_index\")\n",
    "\n",
    "new_vector_store = FAISS.load_local(\n",
    "    \"faiss_index\", embeddings, allow_dangerous_deserialization=True\n",
    ")"
   ]
  }
 ],
 "metadata": {
  "kernelspec": {
   "display_name": ".venv",
   "language": "python",
   "name": "python3"
  },
  "language_info": {
   "codemirror_mode": {
    "name": "ipython",
    "version": 3
   },
   "file_extension": ".py",
   "mimetype": "text/x-python",
   "name": "python",
   "nbconvert_exporter": "python",
   "pygments_lexer": "ipython3",
   "version": "3.13.1"
  }
 },
 "nbformat": 4,
 "nbformat_minor": 2
}
